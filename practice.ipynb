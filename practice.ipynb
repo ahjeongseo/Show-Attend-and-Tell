{
 "cells": [
  {
   "cell_type": "code",
   "execution_count": 1,
   "metadata": {},
   "outputs": [],
   "source": [
    "from data_loader import get_loader\n",
    "from build_vocab import Vocabulary\n",
    "from torchvision import transforms\n",
    "import pickle\n",
    "\n",
    "train_annote_path = './data/annotations/train/captions.json'\n",
    "train_image_path = './data/images/train'\n",
    "batch_size = 5\n",
    "with open('./data/vocab.pkl', 'rb') as f:\n",
    "    vocab = pickle.load(f)\n",
    "transform = transforms.Compose([\n",
    "    transforms.RandomCrop(224),\n",
    "    transforms.RandomHorizontalFlip(),\n",
    "    transforms.ToTensor(),\n",
    "    transforms.Normalize((0.485, 0.456, 0.406),\n",
    "                         (0.229, 0.224, 0.225))\n",
    "])\n",
    "\n",
    "data_loader = get_loader(train_annote_path, train_image_path, vocab, transform,\n",
    "                        batch_size,shuffle=True, num_workers=2)"
   ]
  },
  {
   "cell_type": "code",
   "execution_count": 2,
   "metadata": {},
   "outputs": [
    {
     "name": "stdout",
     "output_type": "stream",
     "text": [
      "tensor([   4,   76,   62, 2408,    4,    3,    3,   17,  375,  961,   12,    2])\n"
     ]
    },
    {
     "data": {
      "text/plain": [
       "tensor([   1,    4,   76,   62, 2408,    4,    3,    3,   17,  375,  961,   12,\n           2])"
      ]
     },
     "execution_count": 2,
     "metadata": {},
     "output_type": "execute_result"
    }
   ],
   "source": [
    "for (images, captions, lengths) in data_loader:\n",
    "    break\n",
    "\n",
    "print(captions[0, 1:])\n",
    "captions[0]"
   ]
  },
  {
   "cell_type": "code",
   "execution_count": 3,
   "metadata": {},
   "outputs": [],
   "source": [
    "vocab_size = len(vocab)\n",
    "embed_size=512\n",
    "feature_num=512\n",
    "hidden_size=512\n",
    "attention_dim=512"
   ]
  },
  {
   "cell_type": "code",
   "execution_count": 4,
   "metadata": {},
   "outputs": [
    {
     "name": "stdout",
     "output_type": "stream",
     "text": [
      "torch.Size([5, 3, 224, 224]) torch.Size([5, 512, 196])\n"
     ]
    }
   ],
   "source": [
    "from model import EncoderCNN\n",
    "\n",
    "encoder = EncoderCNN()\n",
    "features = encoder(images)\n",
    "print(images.shape, features.shape)"
   ]
  },
  {
   "cell_type": "code",
   "execution_count": 59,
   "metadata": {},
   "outputs": [],
   "source": [
    "import torch\n",
    "h = torch.zeros(5, 512)\n",
    "c = torch.zeros(5, 512)"
   ]
  },
  {
   "cell_type": "code",
   "execution_count": 47,
   "metadata": {},
   "outputs": [],
   "source": [
    "from model import Attention\n",
    "from torch import nn\n",
    "\n",
    "embed = nn.Embedding(vocab_size, embed_size)\n",
    "attention = Attention(feature_num, hidden_size, attention_dim)\n",
    "f_beta = nn.Linear(hidden_size, feature_num)\n",
    "sigmoid = nn.Sigmoid()\n",
    "lstm = nn.LSTMCell(embed_size + feature_num, hidden_size, bias=True)\n",
    "# input/output: (batch, seq, feature)\n",
    "# Todo: LSTM hidden layer >= 2 인 경우\n",
    "dropout = nn.Dropout(p=0.5)\n",
    "# 논문에서 regularizer로 dropout과 BLEU score early stopping 사용\n",
    "linear = nn.Linear(hidden_size, vocab_size)"
   ]
  },
  {
   "cell_type": "code",
   "execution_count": 55,
   "metadata": {},
   "outputs": [
    {
     "name": "stdout",
     "output_type": "stream",
     "text": [
      "torch.Size([5, 13, 512])\n5\ntorch.Size([5, 12, 2699]) torch.Size([5, 12, 196])\n"
     ]
    }
   ],
   "source": [
    "batch_size = features.shape[0]\n",
    "feature_dim = features.shape[2]\n",
    "\n",
    "embedding = embed(captions) # size: caption_len*embed_size\n",
    "print(embedding.shape)\n",
    "decode_lengths = [len - 1 for len in lengths]\n",
    "print(len(decode_lengths))\n",
    "\n",
    "predictions = torch.zeros(batch_size, max(decode_lengths), vocab_size)\n",
    "alphas = torch.zeros(batch_size, max(decode_lengths), feature_dim)\n",
    "print(predictions.shape, alphas.shape)"
   ]
  },
  {
   "cell_type": "code",
   "execution_count": 56,
   "metadata": {},
   "outputs": [
    {
     "name": "stdout",
     "output_type": "stream",
     "text": [
      "torch.Size([4, 512]) torch.Size([4, 196])\n"
     ]
    },
    {
     "data": {
      "text/plain": [
       "torch.Size([4, 512])"
      ]
     },
     "execution_count": 56,
     "metadata": {},
     "output_type": "execute_result"
    }
   ],
   "source": [
    "batch_idx = 4\n",
    "z, alpha = attention(features[:batch_idx], h[:batch_idx])\n",
    "print(z.shape, alpha.shape)\n",
    "z = z * sigmoid(f_beta(h[:batch_idx]))\n",
    "z.shape"
   ]
  },
  {
   "cell_type": "code",
   "execution_count": 60,
   "metadata": {},
   "outputs": [
    {
     "name": "stdout",
     "output_type": "stream",
     "text": [
      "torch.Size([5, 2699])\ntorch.Size([5, 2699])\ntorch.Size([5, 2699])\ntorch.Size([5, 2699])\ntorch.Size([5, 2699])\ntorch.Size([5, 2699])\ntorch.Size([5, 2699])\ntorch.Size([5, 2699])\ntorch.Size([5, 2699])\ntorch.Size([5, 2699])\ntorch.Size([3, 2699])\ntorch.Size([2, 2699])\n"
     ]
    }
   ],
   "source": [
    "for i in range(max(decode_lengths)):\n",
    "    batch_idx = sum([l > i for l in decode_lengths])\n",
    "    z, alpha = attention(features[:batch_idx], h[:batch_idx])\n",
    "    z = z * sigmoid(f_beta(h[:batch_idx]))\n",
    "    # 논문에서, attention output z에 gating scalar beta를 곱함으로써 성능 상승(4.2.1절)\n",
    "\n",
    "    lstm_input = torch.cat([embedding[:batch_idx, i, :], z[:batch_idx]], dim=1)\n",
    "    h, c = lstm(lstm_input, (h[:batch_idx], c[:batch_idx]))\n",
    "    output = linear(dropout(h))\n",
    "    print(output.shape)\n",
    "    predictions[:batch_idx, i, :] = output\n",
    "    alphas[:batch_idx, i, :] = alpha"
   ]
  }
 ],
 "metadata": {
  "kernelspec": {
   "display_name": "Python 2",
   "language": "python",
   "name": "python2"
  },
  "language_info": {
   "codemirror_mode": {
    "name": "ipython",
    "version": 2
   },
   "file_extension": ".py",
   "mimetype": "text/x-python",
   "name": "python",
   "nbconvert_exporter": "python",
   "pygments_lexer": "ipython2",
   "version": "2.7.6"
  }
 },
 "nbformat": 4,
 "nbformat_minor": 0
}
